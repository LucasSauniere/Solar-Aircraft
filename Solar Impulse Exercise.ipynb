{
 "cells": [
  {
   "cell_type": "markdown",
   "metadata": {},
   "source": [
    "# TD Solar Impulse & Sky Sailor\n",
    "\n",
    "\n",
    "## Summary :\n",
    "* [1. Preliminary study ](#1) \n",
    "\n",
    "    * [1.1. Bond between power and mass of the plane](#1.1)\n",
    "    \n",
    "        * [1.1.1. Forces diagram ](#1.1.1) \n",
    "        * [1.1.2. Driving power definition](#1.1.2) \n",
    "        * [1.1.3. Minimum driving power ](#1.1.3) \n",
    "        * [1.1.4. Energy needed to travel a distance D ](#1.1.4) \n",
    "        \n",
    "    * [1.2. Bond between power and surface of the wings](#1.2)\n",
    "        * [1.2.1. Power flux density of solar radiation ](#1.2.1) \n",
    "        * [1.2.2. Overall efficiency ](#1.2.2) \n",
    "        * [1.2.3. Larger or smaller aircraft ? ](#1.2.3) \n",
    "        \n",
    "    * [1.3. Photovoltaic cells](#1.3)\n",
    "        * [1.3.1. Wavelength ](#1.3.1) \n",
    "        * [1.3.2. Assessment of the current produced ](#1.3.2) \n",
    "        * [1.3.3. Energy efficiency ](#1.3.3) \n",
    "        \n",
    "* [2. Solar Impulse, day or night flight ](#2) \n"
   ]
  },
  {
   "cell_type": "code",
   "execution_count": 1,
   "metadata": {},
   "outputs": [],
   "source": [
    "from math import *\n",
    "from IPython.display import Image\n",
    "from IPython.core.display import HTML "
   ]
  },
  {
   "cell_type": "markdown",
   "metadata": {},
   "source": [
    "We start setting the values according to both airplanes: Solar Impulse & Sky Sailor.\n",
    "\n",
    "The values are given in the following table :\n",
    "\n",
    "| Aircraft | mass_aircraft with batteries (kg) | batteries mass(kg) | span(m) | wing surface($m^2$) | drag coefficient | lift coefficient | number of motor | maximum power per motor(W) |\n",
    "| --- | --- | --- | --- | --- | --- | --- | --- | --- |\n",
    "| Solar Impulse | 1600 | 400 | 61 | 200 | 0.012 | 0.6 | 4 | 6000 |\n",
    "| Sky Sailor | 2.6 | 1.05 | 3.2 | 0.8 | 0.013 | 0.8 | 1 | 100 |\n",
    "\n",
    "The format of the values will be a list of couples: \n",
    "\n",
    "L_values = [mass_aircraft, batteries mass, span, wing surface, drag coefficient, lift coefficient, number of motor, maximum power per motor(W)]\n",
    "\n",
    "Where mass_aircraft = (mass Solar Impulse , mass Sky Sailor)\n"
   ]
  },
  {
   "cell_type": "code",
   "execution_count": 2,
   "metadata": {},
   "outputs": [],
   "source": [
    "L_values = [(1600,2.6),(400,1.05),(61,3.2),(200,0.8),(0.012,0.013),(0.6,0.8),(4,1),(6000,100)]\n",
    "\n",
    "M_SI,M_SS = L_values[0][0],L_values[0][1]\n",
    "Batt_mass_SI,Batt_mass_SS = L_values[1][0],L_values[1][1]\n",
    "Span_SI,Span_SS = L_values[2][0],L_values[2][1]\n",
    "S_SI,S_SS = L_values[3][0],L_values[3][1]\n",
    "CD_SI,CD_SS = L_values[4][0],L_values[4][1]\n",
    "CL_SI,CL_SS = L_values[5][0],L_values[5][1]\n",
    "N_motor_SI,N_motor_SS = L_values[6][0],L_values[6][1]\n",
    "P_motor_SI,P_motor_SS = L_values[7][0],L_values[7][1]"
   ]
  },
  {
   "cell_type": "markdown",
   "metadata": {},
   "source": [
    "The lift is defined by the following formula : \n",
    "\n",
    "$\\Large L=\\frac{1}{2} \\rho S C_L V^2$"
   ]
  },
  {
   "cell_type": "code",
   "execution_count": 3,
   "metadata": {},
   "outputs": [],
   "source": [
    "def lift(rho,S,CL,V):\n",
    "    return(0.5*rho*S*CL*V**2)"
   ]
  },
  {
   "cell_type": "markdown",
   "metadata": {},
   "source": [
    "The drag is defined by the following formula : \n",
    "\n",
    "$\\Large L=\\frac{1}{2} \\rho S C_D V^2$"
   ]
  },
  {
   "cell_type": "code",
   "execution_count": 4,
   "metadata": {},
   "outputs": [],
   "source": [
    "def drag(rho,S,CD,V):\n",
    "    return(0.5*rho*S*CD*V**2)"
   ]
  },
  {
   "cell_type": "markdown",
   "metadata": {},
   "source": [
    "# 1. Preliminary study <a class=\"anchor\" id=\"1\"></a>\n",
    "\n",
    ">## 1.1. Bond between power and mass of the plane <a class=\"anchor\" id=\"1.1\"></a>\n",
    "\n",
    ">>### 1.1.1 Forces diagram exerted on the plane <a class=\"anchor\" id=\"1.1.1\"></a>"
   ]
  },
  {
   "cell_type": "code",
   "execution_count": 5,
   "metadata": {},
   "outputs": [
    {
     "data": {
      "text/html": [
       "<img src=\"https://www.grc.nasa.gov/www/k-12/airplane/Images/forces.jpg\"/>"
      ],
      "text/plain": [
       "<IPython.core.display.Image object>"
      ]
     },
     "execution_count": 5,
     "metadata": {},
     "output_type": "execute_result"
    }
   ],
   "source": [
    "Image(url= \"https://www.grc.nasa.gov/www/k-12/airplane/Images/forces.jpg\")"
   ]
  },
  {
   "cell_type": "markdown",
   "metadata": {},
   "source": [
    "At constant velocity, the thrust is superior to drag, and the weight is equal to lift."
   ]
  },
  {
   "cell_type": "markdown",
   "metadata": {},
   "source": [
    ">>### 1.1.2 Driving power definition <a class=\"anchor\" id=\"1.1.2\"></a>"
   ]
  },
  {
   "cell_type": "markdown",
   "metadata": {},
   "source": [
    "$ \\Large P_m = \\frac{1}{f} \\sqrt {\\frac{2g^3}{\\rho C_L}} \\cdot \\frac {M^{3/2}}{S^{1/2}}$, with $\\Large f=\\frac{C_L}{C_D}$"
   ]
  },
  {
   "cell_type": "code",
   "execution_count": 6,
   "metadata": {},
   "outputs": [],
   "source": [
    "def driving_power_1(g,rho):\n",
    "    tot=CD_SI/CL_SI\n",
    "    tot*=sqrt(2*g**3/(rho*CL_SI))*(M_SI**(3/2))/(S_SI**(0.5))\n",
    "    return(tot)\n",
    "\n",
    "def driving_power_2(g,rho):\n",
    "    tot=CD_SS/CL_SS\n",
    "    tot*=sqrt(2*g**3/(rho*CL_SS))*(M_SS**(3/2))/(S_SS**(0.5))\n",
    "    return(tot)"
   ]
  },
  {
   "cell_type": "markdown",
   "metadata": {},
   "source": [
    ">>### 1.1.3 Minimum driving power <a class=\"anchor\" id=\"1.1.3\"></a>"
   ]
  },
  {
   "cell_type": "code",
   "execution_count": 11,
   "metadata": {},
   "outputs": [
    {
     "name": "stdout",
     "output_type": "stream",
     "text": [
      "Driving power for Solar Impulse : 4627.887946401085 W\n",
      "Driving power for Sky Sailor : 6.998345103673023 W\n"
     ]
    }
   ],
   "source": [
    "dp_SI = driving_power_1(9.8,1.2)\n",
    "dp_SS = driving_power_2(3.7,0.015)\n",
    "print(\"Driving power for Solar Impulse :\",dp_SI,\"W\")\n",
    "print(\"Driving power for Sky Sailor :\",dp_SS,\"W\")"
   ]
  },
  {
   "cell_type": "markdown",
   "metadata": {},
   "source": [
    ">>### 1.1.4 Energy needed to travel a distance D <a class=\"anchor\" id=\"1.1.4\"></a>"
   ]
  },
  {
   "cell_type": "code",
   "execution_count": null,
   "metadata": {},
   "outputs": [],
   "source": []
  },
  {
   "cell_type": "markdown",
   "metadata": {},
   "source": [
    ">## 1.2 Bond between power and surface of the wings <a class=\"anchor\" id=\"1.2\"></a>\n",
    ">>### 1.2.1 Power flux density of solar radiation <a class=\"anchor\" id=\"1.2.1\"></a>"
   ]
  },
  {
   "cell_type": "markdown",
   "metadata": {},
   "source": [
    "Let's consider that the power flux density is a sinus between 6 and 21.\n",
    "\n",
    "We need to determine $\\omega$ and $\\phi$ in $sin(\\omega t + \\phi)$\n",
    "\n",
    "$\\omega = \\frac{2 \\pi}{T}$, and $T = 2*(20.75-6.25 = 2*14.5$ so : \n",
    "\n",
    "$\\omega = \\frac{\\pi}{14.5}$"
   ]
  },
  {
   "cell_type": "code",
   "execution_count": 8,
   "metadata": {},
   "outputs": [
    {
     "data": {
      "image/png": "[encoded data removed]",
      "text/plain": [
       "<Figure size 432x288 with 1 Axes>"
      ]
     },
     "metadata": {
      "needs_background": "light"
     },
     "output_type": "display_data"
    }
   ],
   "source": [
    "def f(t):\n",
    "    t0 = 6.25\n",
    "    w = pi/14.5\n",
    "    phi = -w*t0\n",
    "    amplitude = 950\n",
    "    return(amplitude * sin(w*t+phi))\n",
    "X=[i for i in range(24)]\n",
    "Y=[f(e) for e in X]\n",
    "\n",
    "from matplotlib import pyplot as plt\n",
    "import numpy as np\n",
    "plt.ylim(0,1000)\n",
    "plt.plot(X,Y)\n",
    "plt.xticks(np.arange(min(X), max(X)+1, 2.0))\n",
    "plt.show()"
   ]
  },
  {
   "cell_type": "markdown",
   "metadata": {},
   "source": [
    "We finally can evaluate the power flux density by integrating.\n",
    "\n",
    "$$\\int 950*sin(\\omega t+\\phi) \\, dx = \\frac{-950}{\\omega}*cos(\\omega t+\\phi) +C$$\n",
    "$$=\\frac{-13775}{\\pi}*cos(\\omega t+\\phi) +C$$"
   ]
  },
  {
   "cell_type": "markdown",
   "metadata": {},
   "source": [
    "Now, we need to define the two borders of integration : 6.25 and 20.75\n",
    "Then we have :\n",
    "\n",
    "$$ I =\\left[\\frac{-13775}{\\pi}*cos(\\omega t+\\phi)\\right]^{20.75}_{6.25} $$\n",
    "\n",
    "Finally :\n",
    "\n",
    "$$ I =\\left[\\frac{-13775}{\\pi}*cos(\\frac{\\pi}{14.5} t-\\frac{6.25*\\pi}{14.5})\\right]^{20.75}_{6.25} $$"
   ]
  },
  {
   "cell_type": "code",
   "execution_count": 9,
   "metadata": {},
   "outputs": [
    {
     "name": "stdout",
     "output_type": "stream",
     "text": [
      "The evaluated power flux density of the solar radiation is approximately equal to :  8769.0 W/m^2\n"
     ]
    }
   ],
   "source": [
    "I = -(13775/pi)*cos((pi*20.75/14.5)-6.25*pi/14.5)\n",
    "I-= -(13775/pi)*cos((pi*6.25/14.5)-6.25*pi/14.5)\n",
    "print(\"The evaluated power flux density of the solar radiation is approximately equal to : \",round(I,0),\"W/m^2\")"
   ]
  },
  {
   "cell_type": "markdown",
   "metadata": {},
   "source": [
    "## Driving power and characteristic size of the aircraft"
   ]
  },
  {
   "cell_type": "markdown",
   "metadata": {},
   "source": [
    "We need to find one characteristic size of the aircraft for which the following two rules apply :\n",
    "\n",
    "$$\\Large P_m = a * size^\\frac{7}{2}      ;      I = b * size^2$$\n",
    "\n",
    "We need to plot $\\frac {P_m}{size^\\frac{7}{2}}$ and $\\frac {I}{size^2}$ for different values of the sizes.\n",
    "\n",
    "Let's consider that the aircraft span is such a size."
   ]
  },
  {
   "cell_type": "code",
   "execution_count": 10,
   "metadata": {},
   "outputs": [],
   "source": [
    "#Solar Impulse\n",
    "a1=dp_SI/Span_SI**(7/2)\n",
    "b1=I/(Span_SI)**(2)\n",
    "\n",
    "#Sky Sailor\n",
    "a2=dp_SS/Span_SS**(7/2)\n",
    "b2=I/Span_SS**(2)\n"
   ]
  },
  {
   "cell_type": "markdown",
   "metadata": {},
   "source": [
    ">>### 1.2.2 Overall efficiency <a class=\"anchor\" id=\"1.2.2\"></a>"
   ]
  },
  {
   "cell_type": "code",
   "execution_count": null,
   "metadata": {},
   "outputs": [],
   "source": []
  },
  {
   "cell_type": "markdown",
   "metadata": {},
   "source": [
    ">>### 1.2.3 Larger or smaller aircraft ? <a class=\"anchor\" id=\"1.2.3\"></a>"
   ]
  },
  {
   "cell_type": "code",
   "execution_count": null,
   "metadata": {},
   "outputs": [],
   "source": []
  },
  {
   "cell_type": "markdown",
   "metadata": {},
   "source": [
    ">## 1.3. Photovoltaic cells <a class=\"anchor\" id=\"1.3\"></a>\n",
    ">>### 1.3.1. Wavelength <a class=\"anchor\" id=\"1.3.1\"></a>\n"
   ]
  },
  {
   "cell_type": "code",
   "execution_count": null,
   "metadata": {},
   "outputs": [],
   "source": []
  },
  {
   "cell_type": "markdown",
   "metadata": {},
   "source": [
    ">>### 1.3.2. Assessment of the current produced <a class=\"anchor\" id=\"1.3.2\"></a>\n"
   ]
  },
  {
   "cell_type": "code",
   "execution_count": null,
   "metadata": {},
   "outputs": [],
   "source": []
  },
  {
   "cell_type": "markdown",
   "metadata": {},
   "source": [
    ">>### 1.3.3. Energy efficiency <a class=\"anchor\" id=\"1.3.3\"></a>\n",
    "        \n"
   ]
  },
  {
   "cell_type": "code",
   "execution_count": null,
   "metadata": {},
   "outputs": [],
   "source": []
  },
  {
   "cell_type": "markdown",
   "metadata": {},
   "source": [
    "# 2. Solar Impulse, day or night flight <a class=\"anchor\" id=\"2\"></a>"
   ]
  },
  {
   "cell_type": "code",
   "execution_count": null,
   "metadata": {},
   "outputs": [],
   "source": []
  },
  {
   "cell_type": "code",
   "execution_count": null,
   "metadata": {},
   "outputs": [],
   "source": []
  }
 ],
 "metadata": {
  "kernelspec": {
   "display_name": "Python 3",
   "language": "python",
   "name": "python3"
  },
  "language_info": {
   "codemirror_mode": {
    "name": "ipython",
    "version": 3
   },
   "file_extension": ".py",
   "mimetype": "text/x-python",
   "name": "python",
   "nbconvert_exporter": "python",
   "pygments_lexer": "ipython3",
   "version": "3.7.7"
  }
 },
 "nbformat": 4,
 "nbformat_minor": 4
}
